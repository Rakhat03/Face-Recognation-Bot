{
 "cells": [
  {
   "cell_type": "code",
   "execution_count": 12,
   "metadata": {},
   "outputs": [
    {
     "ename": "SyntaxError",
     "evalue": "invalid syntax (<ipython-input-12-cf6d24d52c0b>, line 9)",
     "output_type": "error",
     "traceback": [
      "\u001b[1;36m  File \u001b[1;32m\"<ipython-input-12-cf6d24d52c0b>\"\u001b[1;36m, line \u001b[1;32m9\u001b[0m\n\u001b[1;33m    bot.send_message(message.chat.id, \"Send me photo\")\u001b[0m\n\u001b[1;37m    ^\u001b[0m\n\u001b[1;31mSyntaxError\u001b[0m\u001b[1;31m:\u001b[0m invalid syntax\n"
     ]
    }
   ],
   "source": [
    "import telebot\n",
    "import cv2\n",
    "import face_recognition\n",
    "from simple_facerec import SimpleFacerec\n",
    "\n",
    "bot = telebot.TeleBot(token = '5197979836:AAG6T1gvcSDF4qEwpOxo0e4OzfleW0f-9ys')\n",
    "@bot.message_handler(commands=['text'])\n",
    "\n",
    "bot.send_message(message.chat.id, \"Send me photo\")\n",
    "\n",
    "\n",
    "\n",
    "@bot.message_handler(content_types = ['photo'])\n",
    "\n",
    "def photo(message):\n",
    "    sfr = SimpleFacerec()\n",
    "    sfr.load_encoding_images(\"images/\")\n",
    "    \n",
    "    img = cv2.imread(message)\n",
    "    RGB_img = cv2.cvtColor(img, cv2.COLOR_BGR2RGB)\n",
    "    \n",
    "    img_encoding = face_recognition.face_encodings(RGB_img)[0]\n",
    "\n",
    "    result = sfr.detect_known_faces(img_encoding)\n",
    "    \n",
    "    bot.send_message(message.chat.id, result)\n"
   ]
  },
  {
   "cell_type": "code",
   "execution_count": null,
   "metadata": {},
   "outputs": [],
   "source": []
  }
 ],
 "metadata": {
  "kernelspec": {
   "display_name": "Python 3",
   "language": "python",
   "name": "python3"
  },
  "language_info": {
   "codemirror_mode": {
    "name": "ipython",
    "version": 3
   },
   "file_extension": ".py",
   "mimetype": "text/x-python",
   "name": "python",
   "nbconvert_exporter": "python",
   "pygments_lexer": "ipython3",
   "version": "3.8.5"
  }
 },
 "nbformat": 4,
 "nbformat_minor": 4
}
